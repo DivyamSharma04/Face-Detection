{
 "cells": [
  {
   "cell_type": "code",
   "execution_count": 21,
   "metadata": {},
   "outputs": [],
   "source": [
    "import numpy as np \n",
    "import cv2\n",
    "face_model = cv2.CascadeClassifier('haarcascade_frontalface_default.xml')"
   ]
  },
  {
   "cell_type": "code",
   "execution_count": 22,
   "metadata": {},
   "outputs": [],
   "source": [
    "cap = cv2.VideoCapture(0)"
   ]
  },
  {
   "cell_type": "code",
   "execution_count": 23,
   "metadata": {},
   "outputs": [],
   "source": [
    "while True:\n",
    "    status , photo = cap.read()\n",
    "    cphoto = photo[150:420,250:460]\n",
    "    rphoto = cv2.resize(cphoto , (100,100))\n",
    "    photo[0:100,0:100] = rphoto\n",
    "    photo[380:480,540:640] = rphoto\n",
    "    face_cor = face_model.detectMultiScale(photo)\n",
    "    \n",
    "    if len(face_cor)==0:\n",
    "        pass\n",
    "    else:\n",
    "        for (x, y, w, h) in face_cor:\n",
    "            cv2.rectangle(photo, (x, y), (x+w, y+h), (0, 255, 0), 2)\n",
    "        \n",
    "        text = 'Face Detection'\n",
    "        font = cv2.FONT_HERSHEY_SIMPLEX\n",
    "        org = (150, 20)\n",
    "        fontScale = 1\n",
    "        color = (0, 0, 255)\n",
    "        thickness = 2\n",
    "        photo = cv2.putText(photo, text, org, font, fontScale,color, thickness, cv2.LINE_AA, False)\n",
    "        cv2.imshow('hey' , photo)\n",
    "        if cv2.waitKey(10)==13:\n",
    "            break\n",
    "cv2.destroyAllWindows()            \n",
    "        \n",
    "    "
   ]
  },
  {
   "cell_type": "code",
   "execution_count": 24,
   "metadata": {},
   "outputs": [],
   "source": [
    "cap.release()"
   ]
  },
  {
   "cell_type": "code",
   "execution_count": null,
   "metadata": {},
   "outputs": [],
   "source": []
  }
 ],
 "metadata": {
  "kernelspec": {
   "display_name": "Python 3",
   "language": "python",
   "name": "python3"
  },
  "language_info": {
   "codemirror_mode": {
    "name": "ipython",
    "version": 3
   },
   "file_extension": ".py",
   "mimetype": "text/x-python",
   "name": "python",
   "nbconvert_exporter": "python",
   "pygments_lexer": "ipython3",
   "version": "3.7.4"
  }
 },
 "nbformat": 4,
 "nbformat_minor": 2
}
